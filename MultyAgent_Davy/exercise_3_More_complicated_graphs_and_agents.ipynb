{
  "cells": [
    {
      "cell_type": "code",
      "execution_count": 1,
      "metadata": {
        "id": "RauVd4Owks5s"
      },
      "outputs": [],
      "source": [
        "%%capture --no-stderr\n",
        "%pip install -U langgraph langsmith\n",
        "\n",
        "# Used for this tutorial; not a requirement for LangGraph\n",
        "%pip install -U langchain_anthropic langchain_openai"
      ]
    },
    {
      "cell_type": "code",
      "execution_count": 2,
      "metadata": {
        "id": "-_tybhtyoivs"
      },
      "outputs": [],
      "source": [
        "# subgraphs\n",
        "\n",
        "from typing import Annotated\n",
        "\n",
        "from typing_extensions import TypedDict\n",
        "\n",
        "from langgraph.graph import StateGraph\n",
        "\n",
        "\n",
        "def reduce_list(left: list | None, right: list | None) -> list:\n",
        "    if not left:\n",
        "        left = []\n",
        "    if not right:\n",
        "        right = []\n",
        "    return left + right\n",
        "\n",
        "\n",
        "class ChildState(TypedDict):\n",
        "    name: str\n",
        "    path: Annotated[list[str], reduce_list]\n",
        "\n",
        "\n",
        "class ParentState(TypedDict):\n",
        "    name: str\n",
        "    path: Annotated[list[str], reduce_list]\n",
        "\n",
        "\n",
        "child_builder = StateGraph(ChildState)\n",
        "\n",
        "child_builder.add_node(\"child_start\", lambda state: {\"path\": [\"child_start\"]})\n",
        "child_builder.set_entry_point(\"child_start\")\n",
        "child_builder.add_node(\"child_middle\", lambda state: {\"path\": [\"child_middle\"]})\n",
        "child_builder.add_node(\"child_end\", lambda state: {\"path\": [\"child_end\"]})\n",
        "child_builder.add_edge(\"child_start\", \"child_middle\")\n",
        "child_builder.add_edge(\"child_middle\", \"child_end\")\n",
        "child_builder.set_finish_point(\"child_end\")\n",
        "\n",
        "builder = StateGraph(ParentState)\n",
        "\n",
        "builder.add_node(\"grandparent\", lambda state: {\"path\": [\"grandparent\"]})\n",
        "builder.set_entry_point(\"grandparent\")\n",
        "builder.add_node(\"parent\", lambda state: {\"path\": [\"parent\"]})\n",
        "builder.add_node(\"child\", child_builder.compile())\n",
        "builder.add_node(\"sibling\", lambda state: {\"path\": [\"sibling\"]})\n",
        "builder.add_node(\"fin\", lambda state: {\"path\": [\"fin\"]})\n",
        "\n",
        "# Add connections\n",
        "builder.add_edge(\"grandparent\", \"parent\")\n",
        "builder.add_edge(\"parent\", \"child\")\n",
        "builder.add_edge(\"parent\", \"sibling\")\n",
        "builder.add_edge(\"child\", \"fin\")\n",
        "builder.add_edge(\"sibling\", \"fin\")\n",
        "builder.set_finish_point(\"fin\")\n",
        "graph = builder.compile()"
      ]
    },
    {
      "cell_type": "code",
      "execution_count": 3,
      "metadata": {
        "colab": {
          "base_uri": "https://localhost:8080/"
        },
        "id": "Vq0KPA3btl16",
        "outputId": "8704405d-4130-4dcb-b0b6-731ab3a79296"
      },
      "outputs": [
        {
          "name": "stdout",
          "output_type": "stream",
          "text": [
            "\u001b[36;1m\u001b[1;3m[0:tasks]\u001b[0m \u001b[1mStarting step 0 with 1 task:\n",
            "\u001b[0m- \u001b[32;1m\u001b[1;3m__start__\u001b[0m -> {'name': 'test'}\n",
            "\u001b[36;1m\u001b[1;3m[0:writes]\u001b[0m \u001b[1mFinished step 0 with writes to 1 channel:\n",
            "\u001b[0m- \u001b[33;1m\u001b[1;3mname\u001b[0m -> 'test'\n",
            "\u001b[36;1m\u001b[1;3m[1:tasks]\u001b[0m \u001b[1mStarting step 1 with 1 task:\n",
            "\u001b[0m- \u001b[32;1m\u001b[1;3mgrandparent\u001b[0m -> {'name': 'test', 'path': []}\n",
            "\u001b[36;1m\u001b[1;3m[1:writes]\u001b[0m \u001b[1mFinished step 1 with writes to 1 channel:\n",
            "\u001b[0m- \u001b[33;1m\u001b[1;3mpath\u001b[0m -> ['grandparent']\n",
            "\u001b[36;1m\u001b[1;3m[2:tasks]\u001b[0m \u001b[1mStarting step 2 with 1 task:\n",
            "\u001b[0m- \u001b[32;1m\u001b[1;3mparent\u001b[0m -> {'name': 'test', 'path': ['grandparent']}\n",
            "\u001b[36;1m\u001b[1;3m[2:writes]\u001b[0m \u001b[1mFinished step 2 with writes to 1 channel:\n",
            "\u001b[0m- \u001b[33;1m\u001b[1;3mpath\u001b[0m -> ['parent']\n",
            "\u001b[36;1m\u001b[1;3m[3:tasks]\u001b[0m \u001b[1mStarting step 3 with 2 tasks:\n",
            "\u001b[0m- \u001b[32;1m\u001b[1;3mchild\u001b[0m -> {'name': 'test', 'path': ['grandparent', 'parent']}\n",
            "- \u001b[32;1m\u001b[1;3msibling\u001b[0m -> {'name': 'test', 'path': ['grandparent', 'parent']}\n",
            "\u001b[36;1m\u001b[1;3m[3:writes]\u001b[0m \u001b[1mFinished step 3 with writes to 2 channels:\n",
            "\u001b[0m- \u001b[33;1m\u001b[1;3mname\u001b[0m -> 'test'\n",
            "- \u001b[33;1m\u001b[1;3mpath\u001b[0m -> ['grandparent', 'parent', 'child_start', 'child_middle', 'child_end'], ['sibling']\n",
            "\u001b[36;1m\u001b[1;3m[4:tasks]\u001b[0m \u001b[1mStarting step 4 with 1 task:\n",
            "\u001b[0m- \u001b[32;1m\u001b[1;3mfin\u001b[0m -> {'name': 'test',\n",
            " 'path': ['grandparent',\n",
            "          'parent',\n",
            "          'grandparent',\n",
            "          'parent',\n",
            "          'child_start',\n",
            "          'child_middle',\n",
            "          'child_end',\n",
            "          'sibling']}\n",
            "\u001b[36;1m\u001b[1;3m[4:writes]\u001b[0m \u001b[1mFinished step 4 with writes to 1 channel:\n",
            "\u001b[0m- \u001b[33;1m\u001b[1;3mpath\u001b[0m -> ['fin']\n"
          ]
        },
        {
          "data": {
            "text/plain": [
              "{'name': 'test',\n",
              " 'path': ['grandparent',\n",
              "  'parent',\n",
              "  'grandparent',\n",
              "  'parent',\n",
              "  'child_start',\n",
              "  'child_middle',\n",
              "  'child_end',\n",
              "  'sibling',\n",
              "  'fin']}"
            ]
          },
          "execution_count": 3,
          "metadata": {},
          "output_type": "execute_result"
        }
      ],
      "source": [
        "graph.invoke({\"name\": \"test\"}, debug=True)"
      ]
    },
    {
      "cell_type": "code",
      "execution_count": 4,
      "metadata": {
        "colab": {
          "base_uri": "https://localhost:8080/",
          "height": 705
        },
        "id": "aeVs1lVEttcI",
        "outputId": "d1bb0d19-1e70-4f4f-d1a6-90bba2fd4612"
      },
      "outputs": [
        {
          "data": {
            "image/jpeg": "[encoded data removed]",
            "text/plain": [
              "<IPython.core.display.Image object>"
            ]
          },
          "metadata": {},
          "output_type": "display_data"
        }
      ],
      "source": [
        "from IPython.display import Image, display\n",
        "\n",
        "# Setting xray to 1 will show the internal structure of the nested graph\n",
        "display(Image(graph.get_graph(xray=1).draw_mermaid_png()))"
      ]
    },
    {
      "cell_type": "code",
      "execution_count": 5,
      "metadata": {
        "id": "XvWaFcJQjJGw"
      },
      "outputs": [],
      "source": [
        "import operator\n",
        "from typing import Annotated, Sequence, TypedDict\n",
        "\n",
        "from langchain_openai import ChatOpenAI\n",
        "from langchain_core.messages import (\n",
        "    BaseMessage,\n",
        "    HumanMessage,\n",
        "    ToolMessage,\n",
        ")\n",
        "\n",
        "# This defines the object that is passed between each node\n",
        "# in the graph. We will create different nodes for each agent and tool\n",
        "class AgentState(TypedDict):\n",
        "    messages: Annotated[Sequence[BaseMessage], operator.add]\n",
        "    sender: str"
      ]
    },
    {
      "cell_type": "code",
      "execution_count": 6,
      "metadata": {
        "colab": {
          "base_uri": "https://localhost:8080/"
        },
        "id": "pcy_MyuyjXQu",
        "outputId": "1819da3b-fab7-4744-b41b-9eb912b9d432"
      },
      "outputs": [],
      "source": [
        "import getpass\n",
        "import os\n",
        "\n",
        "\n",
        "def _set_if_undefined(var: str):\n",
        "    if not os.environ.get(var):\n",
        "        os.environ[var] = getpass.getpass(f\"Please provide your {var}\")\n",
        "\n",
        "\n",
        "_set_if_undefined(\"OPENAI_API_KEY\")\n",
        "\n"
      ]
    },
    {
      "cell_type": "code",
      "execution_count": 7,
      "metadata": {
        "id": "qe6yUH6Xjuw2"
      },
      "outputs": [],
      "source": [
        "from langchain_core.prompts import ChatPromptTemplate, MessagesPlaceholder\n",
        "\n",
        "from langgraph.graph import END, StateGraph\n",
        "def create_agent(llm, tools, system_message: str):\n",
        "    \"\"\"Create an agent.\"\"\"\n",
        "    prompt = ChatPromptTemplate.from_messages(\n",
        "        [\n",
        "            (\n",
        "                \"system\",\n",
        "                \"You are a helpful AI assistant, collaborating with other assistants.\"\n",
        "                \" Use the provided tools to progress towards answering the question.\"\n",
        "                \" If you are unable to fully answer, that's OK, another assistant with different tools \"\n",
        "                \" will help where you left off. Execute what you can to make progress.\"\n",
        "                \" If you or any of the other assistants have the final answer or deliverable,\"\n",
        "                \" prefix your response with FINAL ANSWER so the team knows to stop.\"\n",
        "                \" You have access to the following tools: {tool_names}.\\n{system_message}\",\n",
        "            ),\n",
        "            MessagesPlaceholder(variable_name=\"messages\"),\n",
        "        ]\n",
        "    )\n",
        "    prompt = prompt.partial(system_message=system_message)\n",
        "    prompt = prompt.partial(tool_names=\", \".join([tool.name for tool in tools]))\n",
        "    return prompt | llm.bind_tools(tools)"
      ]
    },
    {
      "cell_type": "code",
      "execution_count": 8,
      "metadata": {
        "id": "EWUGuwiRj4gu"
      },
      "outputs": [],
      "source": [
        "from langchain_core.tools import tool\n",
        "from langchain_core.messages import AIMessage\n",
        "\n",
        "\n",
        "llm = ChatOpenAI(model=\"gpt-4-1106-preview\")\n",
        "\n",
        "# Helper function to create a node for a given agent\n",
        "def agent_node(state, agent, name):\n",
        "    result = agent.invoke(state)\n",
        "    # print(state)\n",
        "    # We convert the agent output into a format that is suitable to append to the global state\n",
        "    if isinstance(result, ToolMessage):\n",
        "        pass\n",
        "    else:\n",
        "        result = AIMessage(**result.dict(exclude={\"type\", \"name\"}), name=name)\n",
        "        # print(result)\n",
        "    return {\n",
        "        \"messages\": [result],\n",
        "        # Since we have a strict workflow, we can\n",
        "        # track the sender so we know who to pass to next.\n",
        "        \"sender\": name,\n",
        "    }\n",
        "\n",
        "@tool\n",
        "def mock_tool(message: str, recipient: str) -> str:\n",
        "    \"Send an email to person x\"\n",
        "    return f\"Successfully sent email to {recipient}.\"\n",
        "\n",
        "import functools\n",
        "tools = [mock_tool]\n",
        "# Research agent and node\n",
        "research_agent = create_agent(\n",
        "    llm,\n",
        "    tools,\n",
        "    system_message=\"your job is to provide fake research about an issue, you can make it up\",\n",
        ")\n",
        "joke_agent = create_agent(\n",
        "    llm,\n",
        "    tools,\n",
        "    system_message=\"you are a comedian and make a sarcastic joke about the input you get, also give your input first\",\n",
        ")\n",
        "\n",
        "research_node = functools.partial(agent_node, agent=research_agent, name=\"Researcher\")\n",
        "joke_node = functools.partial(agent_node, agent=joke_agent, name=\"Joke Agent\")"
      ]
    },
    {
      "cell_type": "code",
      "execution_count": 9,
      "metadata": {
        "id": "yMz2Qvmxk2wZ"
      },
      "outputs": [],
      "source": [
        "workflow = StateGraph(AgentState)\n",
        "workflow.add_node('researcher', research_node)\n",
        "workflow.add_node('joke_agent',joke_node)\n",
        "workflow.add_edge('researcher','joke_agent')"
      ]
    },
    {
      "cell_type": "code",
      "execution_count": 10,
      "metadata": {
        "id": "NNbmq-ASlNN3"
      },
      "outputs": [],
      "source": [
        "workflow.set_entry_point(\"researcher\")\n",
        "workflow.set_finish_point(\"joke_agent\")\n",
        "graph = workflow.compile()"
      ]
    },
    {
      "cell_type": "code",
      "execution_count": 11,
      "metadata": {
        "colab": {
          "base_uri": "https://localhost:8080/",
          "height": 319
        },
        "id": "rBPNFBYMlh9v",
        "outputId": "c8a1a9ca-ac0c-40a5-d7f4-65ea7640fbef"
      },
      "outputs": [
        {
          "data": {
            "image/jpeg": "[encoded data removed]",
            "text/plain": [
              "<IPython.core.display.Image object>"
            ]
          },
          "metadata": {},
          "output_type": "display_data"
        }
      ],
      "source": [
        "from IPython.display import Image, display\n",
        "\n",
        "try:\n",
        "    display(Image(graph.get_graph(xray=True).draw_mermaid_png()))\n",
        "except Exception:\n",
        "    # This requires some extra dependencies and is optional\n",
        "    pass"
      ]
    },
    {
      "cell_type": "code",
      "execution_count": 12,
      "metadata": {
        "colab": {
          "base_uri": "https://localhost:8080/"
        },
        "id": "nr6P91aplryG",
        "outputId": "1106c2be-871d-46ce-d45b-57a357241f5f"
      },
      "outputs": [
        {
          "name": "stdout",
          "output_type": "stream",
          "text": [
            "Researcher\n",
            "Message: To develop a joke based on fake research about dancing, we could concoct a humorous study result that plays on the expectations people might have regarding dancing. Here's an example of a fake research finding that could be the punchline of our joke:\n",
            "\n",
            "\"After a comprehensive study involving thousands of participants, researchers have discovered that dancing backwards is not only more difficult but has been found to reverse the aging process. Participants reported feeling younger with every step taken in reverse, with some even forgetting why they entered the room in the first place.\"\n",
            "\n",
            "Now, let's turn this fake research finding into a joke:\n",
            "\n",
            "\"Why are all the scientists at the dance studio walking backwards? Because they found that it's not only a step back in dance technique but also a leap forward in anti-aging!\"\n",
            "\n",
            "This joke plays with the absurdity of the fake research findings and creates a comical image of scientists earnestly trying to reverse aging by dancing backwards.\n",
            "Joke Agent\n",
            "Message: Oh, you want to hear the latest \"breakthrough\" from the world of dance research? Well, strap on your dancing shoes and prepare to be dazzled: scientists have just discovered that the Cha-Cha is actually a form of communication with distant aliens. That's right! Every time you do that little one-two-cha-cha-cha, you're basically asking extraterrestrials if they come in peace or if they just want to cut in.\n",
            "\n",
            "But wait, it gets better! These same researchers are now convinced that the Hokey Pokey really is what it's all about. Turns out, putting your left foot in and shaking it all about is the key to unlocking the mysteries of the universe. Who knew that toddlers at birthday parties were on the brink of existential enlightenment, right? So next time you hit the dance floor, remember: you're not just busting a move, you're engaging in intergalactic diplomacy and unraveling the fabric of reality—one boogie at a time!\n"
          ]
        }
      ],
      "source": [
        "events = graph.stream(\n",
        "    {\n",
        "        \"messages\": [\n",
        "            HumanMessage(\n",
        "                content=\"we are developing a joke based upon research about dancing\"\n",
        "            )\n",
        "        ],\n",
        "    },\n",
        "    # Maximum number of steps to take in the graph\n",
        "    {\"recursion_limit\": 10},\n",
        ")\n",
        "for details in events:\n",
        "    if isinstance(details, dict):\n",
        "        events_list = list(details.values())\n",
        "    else:\n",
        "        events_list = list(details)\n",
        "\n",
        "    for details in events_list:\n",
        "        print(details['sender'])\n",
        "        for message in details['messages']:\n",
        "            print(f\"Message: {message.content}\")"
      ]
    }
  ],
  "metadata": {
    "colab": {
      "provenance": []
    },
    "kernelspec": {
      "display_name": "Python 3",
      "name": "python3"
    },
    "language_info": {
      "codemirror_mode": {
        "name": "ipython",
        "version": 3
      },
      "file_extension": ".py",
      "mimetype": "text/x-python",
      "name": "python",
      "nbconvert_exporter": "python",
      "pygments_lexer": "ipython3",
      "version": "3.10.14"
    }
  },
  "nbformat": 4,
  "nbformat_minor": 0
}
